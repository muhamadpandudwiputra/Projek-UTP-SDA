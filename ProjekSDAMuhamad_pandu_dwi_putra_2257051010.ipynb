{
  "nbformat": 4,
  "nbformat_minor": 0,
  "metadata": {
    "colab": {
      "provenance": []
    },
    "kernelspec": {
      "name": "python3",
      "display_name": "Python 3"
    },
    "language_info": {
      "name": "python"
    }
  },
  "cells": [
    {
      "cell_type": "code",
      "execution_count": 1,
      "metadata": {
        "colab": {
          "base_uri": "https://localhost:8080/",
          "height": 235
        },
        "id": "jaz0Hof7SDjA",
        "outputId": "90d2d2e2-823c-482d-8f52-b22c42e0b7d6"
      },
      "outputs": [
        {
          "output_type": "error",
          "ename": "NameError",
          "evalue": "ignored",
          "traceback": [
            "\u001b[0;31m---------------------------------------------------------------------------\u001b[0m",
            "\u001b[0;31mNameError\u001b[0m                                 Traceback (most recent call last)",
            "\u001b[0;32m<ipython-input-1-d91ff2e72cdf>\u001b[0m in \u001b[0;36m<cell line: 1>\u001b[0;34m()\u001b[0m\n\u001b[0;32m----> 1\u001b[0;31m \u001b[0;32mwhile\u001b[0m \u001b[0mpakai_atm\u001b[0m \u001b[0;34m==\u001b[0m \u001b[0;34m\"y\"\u001b[0m\u001b[0;34m:\u001b[0m\u001b[0;34m\u001b[0m\u001b[0;34m\u001b[0m\u001b[0m\n\u001b[0m\u001b[1;32m      2\u001b[0m     \u001b[0;32mwhile\u001b[0m \u001b[0;32mnot\u001b[0m \u001b[0mstatus_login\u001b[0m\u001b[0;34m:\u001b[0m\u001b[0;34m\u001b[0m\u001b[0;34m\u001b[0m\u001b[0m\n\u001b[1;32m      3\u001b[0m         \u001b[0mprint\u001b[0m\u001b[0;34m(\u001b[0m\u001b[0;34m\"+++++++++++++++++++++++++++++++++++++++++++++++++++\"\u001b[0m\u001b[0;34m)\u001b[0m\u001b[0;34m\u001b[0m\u001b[0;34m\u001b[0m\u001b[0m\n\u001b[1;32m      4\u001b[0m         \u001b[0mprint\u001b[0m\u001b[0;34m(\u001b[0m\u001b[0;34m\"SELAMAT DATANG DI ATM Kopi!\"\u001b[0m\u001b[0;34m)\u001b[0m\u001b[0;34m\u001b[0m\u001b[0;34m\u001b[0m\u001b[0m\n\u001b[1;32m      5\u001b[0m         \u001b[0mprint\u001b[0m\u001b[0;34m(\u001b[0m\u001b[0;34m\"Silahkan masukan pin anda\"\u001b[0m\u001b[0;34m)\u001b[0m\u001b[0;34m\u001b[0m\u001b[0;34m\u001b[0m\u001b[0m\n",
            "\u001b[0;31mNameError\u001b[0m: name 'pakai_atm' is not defined"
          ]
        }
      ],
      "source": [
        "while pakai_atm == \"y\":\n",
        "    while not status_login:\n",
        "        print(\"+++++++++++++++++++++++++++++++++++++++++++++++++++\")\n",
        "        print(\"SELAMAT DATANG DI ATM Kopi!\")\n",
        "        print(\"Silahkan masukan pin anda\")\n",
        "        print(\"+++++++++++++++++++++++++++++++++++++++++++++++++++\")\n",
        "        print(\"\")\n",
        "        pin = input(\"PIN : \")\n",
        " \n",
        "        cl = cek_login(pin)\n",
        "        if cl:\n",
        "            print(\"Halo, Selamat datang \" + cl['username'])\n",
        "            user_id = cl['id']\n",
        "            status_login = True\n",
        "            loop = \"y\"\n",
        "        else:\n",
        "            print(\"\")\n",
        "            print(\"Maaf PIN yang anda masukkan salah, silahkan coba kembali\")\n",
        "            print(\"\")\n",
        "            print(\"\")\n",
        " \n",
        "    while loop == \"y\" and status_login:\n",
        "        u = users[cek_user(user_id)]\n",
        "        print(\"====================================\")\n",
        "        print(\"SELAMAT DATANG DI ATM Kopi\")\n",
        "        print(\"1.Cek Saldo\")\n",
        "        print(\"2.Transfer Uang\")\n",
        "        print(\"3.Ambil Uang\")\n",
        "        print(\"4.Keluar ATM\")\n",
        "        print(\"====================================\")\n",
        "        print(\"\")\n",
        "        a = int(input(\"Silahkan pilih menu : \"))\n",
        "        if a == 1:\n",
        "            print(\"\")\n",
        "            print(\"Sisa Saldo anda adalah Rp.\", u['saldo'])\n",
        "            print(\"\")\n",
        "            print(\"\")\n",
        "            loop = \"n\"\n",
        "        elif a == 2:\n",
        "            print(\"Untuk Mentransfer Uang Silahkan Masukan No Rekening Tujuan\")\n",
        "            no_rek = input(\"Masukan No Rekening Tujuan : \")\n",
        "            cnk = cek_rekening(no_rek)\n",
        " \n",
        "            if cnk >= 0:\n",
        "                print(\"Nomor rekening ditemukan,silahkan masukan nominal yang yang akan di transfer\")\n",
        "                nominal = input(\"Nominal Yang Akan Di Transfer : \")\n",
        "                tranfer_uang(nominal, no_rek)\n",
        "                print(\"\")\n",
        "                loop = \"n\"\n",
        "            else:\n",
        "                print(\"\")\n",
        "                print(\"Nomor Rekening Tujuan Tidak ditemukan atau tidak terdaftar\")\n",
        "                print(\"\")\n",
        "                loop = \"n\"\n",
        " \n",
        "        elif a == 3:\n",
        "            nominal = input(\"Nominal Yang Akan Di Tarik : \")\n",
        "            ambil_uang(nominal)\n",
        "            print(\"\")\n",
        "            loop = \"n\"\n",
        " \n",
        "        elif a == 4:\n",
        "            status_login = False\n",
        "            loop = \"n\"\n",
        "            pakai_atm = \"n\"\n",
        "        else:\n",
        "            print(\"Maaf pilihan tidak tersedia\")\n",
        "        if status_login == True:\n",
        "            input(\"Silahkan kembali ke menu (Tekan Enter) \")\n",
        "            print(\"\")\n",
        "            loop = \"y\""
      ]
    }
  ]
}